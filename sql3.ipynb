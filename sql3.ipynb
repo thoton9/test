{
  "nbformat": 4,
  "nbformat_minor": 0,
  "metadata": {
    "kernelspec": {
      "display_name": "Python 3",
      "language": "python",
      "name": "python3"
    },
    "language_info": {
      "codemirror_mode": {
        "name": "ipython",
        "version": 3
      },
      "file_extension": ".py",
      "mimetype": "text/x-python",
      "name": "python",
      "nbconvert_exporter": "python",
      "pygments_lexer": "ipython3",
      "version": "3.8.3"
    },
    "colab": {
      "name": "sql3.ipynb",
      "provenance": [],
      "include_colab_link": true
    }
  },
  "cells": [
    {
      "cell_type": "markdown",
      "metadata": {
        "id": "view-in-github",
        "colab_type": "text"
      },
      "source": [
        "<a href=\"https://colab.research.google.com/github/thoton9/test/blob/master/sql3.ipynb\" target=\"_parent\"><img src=\"https://colab.research.google.com/assets/colab-badge.svg\" alt=\"Open In Colab\"/></a>"
      ]
    },
    {
      "cell_type": "code",
      "metadata": {
        "id": "ENXlEIAbes2O",
        "colab_type": "code",
        "colab": {
          "base_uri": "https://localhost:8080/",
          "height": 68
        },
        "outputId": "3af08bb1-d4ea-4d90-ab25-d9d6e776612a"
      },
      "source": [
        "# ※1 説明は下にあります。\n",
        "# https://chayarokurokuro.hatenablog.com/entry/2019/08/18/174322\n",
        " \n",
        "import sqlite3\n",
        " \n",
        "# ※2 \n",
        "dbname = \"test.db\"\n",
        " \n",
        "# ※3 \n",
        "conn = sqlite3.connect(dbname)\n",
        " \n",
        "# ※4 \n",
        "cur = conn.cursor()\n",
        " \n",
        "# ※5 \n",
        "cur.execute(\"DROP TABLE IF EXISTS items\")\n",
        " \n",
        "# ※6 \n",
        "cur.execute(\"\"\"\n",
        "    CREATE TABLE items(\n",
        "        id INTEGER PRIMARY KEY,\n",
        "        name TEXT UNIQUE,\n",
        "        price INTEGER\n",
        "    )\n",
        "\"\"\")\n",
        " \n",
        "# ※7 \n",
        "cur.execute(\"INSERT INTO items (name,price) VALUES ('タイ語',160)\")\n",
        "cur.execute(\"INSERT INTO items (name,price) VALUES ('ヒンディ語',780)\")\n",
        "cur.execute(\"INSERT INTO items (name,price) VALUES ('ビルマ語',230)\")\n",
        " \n",
        " \n",
        "# ※8 \n",
        "conn.commit()\n",
        " \n",
        "# ※9 \n",
        "cur = conn.cursor()\n",
        "cur.execute(\"SELECT id,name,price FROM items\")\n",
        "item_list = cur.fetchall()\n",
        " \n",
        "# ※10 \n",
        "for i in item_list:\n",
        "    print(i)\n",
        " \n",
        "# ※11 \n",
        "conn.close()"
      ],
      "execution_count": 3,
      "outputs": [
        {
          "output_type": "stream",
          "text": [
            "(1, 'タイ語', 160)\n",
            "(2, 'ヒンディ語', 780)\n",
            "(3, 'ビルマ語', 230)\n"
          ],
          "name": "stdout"
        }
      ]
    }
  ]
}